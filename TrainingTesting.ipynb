{
  "nbformat": 4,
  "nbformat_minor": 0,
  "metadata": {
    "colab": {
      "provenance": []
    },
    "kernelspec": {
      "name": "python3",
      "display_name": "Python 3"
    },
    "language_info": {
      "name": "python"
    }
  },
  "cells": [
    {
      "cell_type": "code",
      "source": [
        "from google.colab import drive\n",
        "drive.mount('/content/drive')"
      ],
      "metadata": {
        "colab": {
          "base_uri": "https://localhost:8080/"
        },
        "id": "eEwLmiwuSlew",
        "outputId": "43b2e75b-2030-4409-91e0-d2f3fb299ea9"
      },
      "execution_count": 1,
      "outputs": [
        {
          "output_type": "stream",
          "name": "stdout",
          "text": [
            "Mounted at /content/drive\n"
          ]
        }
      ]
    },
    {
      "cell_type": "code",
      "source": [
        "import os\n",
        "from tensorflow.keras.preprocessing.image import ImageDataGenerator, img_to_array, load_img\n",
        "import numpy as np\n",
        "import os\n",
        "from tqdm import tqdm\n",
        "import pandas as pd\n",
        "from sklearn.model_selection import train_test_split\n",
        "from sklearn.preprocessing import StandardScaler\n",
        "from sklearn.svm import SVC\n",
        "from sklearn.metrics import accuracy_score, classification_report\n",
        "from tensorflow.keras.preprocessing.image import load_img, img_to_array\n",
        "from tensorflow.keras.applications.vgg16 import VGG16, preprocess_input\n",
        "from tensorflow.keras.models import Model\n",
        "from sklearn.decomposition import PCA\n",
        "import cv2\n"
      ],
      "metadata": {
        "id": "xQCA0qszToav"
      },
      "execution_count": 2,
      "outputs": []
    },
    {
      "cell_type": "code",
      "source": [
        "import warnings\n",
        "warnings.filterwarnings('ignore')"
      ],
      "metadata": {
        "id": "PoUoopoAUcLt"
      },
      "execution_count": 25,
      "outputs": []
    },
    {
      "cell_type": "markdown",
      "source": [
        "## OTSU"
      ],
      "metadata": {
        "id": "4YB3vlMBSwMV"
      }
    },
    {
      "cell_type": "code",
      "execution_count": 317,
      "metadata": {
        "id": "tuAnJ_NLSfjt"
      },
      "outputs": [],
      "source": [
        "df = pd.read_csv('./drive/MyDrive/Brain tumor dataset RM/result_csv/train_otsu_data.csv')"
      ]
    },
    {
      "cell_type": "code",
      "source": [
        "X = df.drop('label', axis=1)\n",
        "y = df['label']\n",
        "\n",
        "scaler = StandardScaler()\n",
        "X = scaler.fit_transform(X)\n",
        "\n",
        "pca = PCA(n_components=0.9)\n",
        "X = pca.fit_transform(X)"
      ],
      "metadata": {
        "id": "cUOcUF-gSmmP"
      },
      "execution_count": 318,
      "outputs": []
    },
    {
      "cell_type": "code",
      "source": [
        "X_train = X\n",
        "y_train = y"
      ],
      "metadata": {
        "id": "IWhdzCxiSpIV"
      },
      "execution_count": 319,
      "outputs": []
    },
    {
      "cell_type": "code",
      "source": [
        "new_df = pd.read_csv('./drive/MyDrive/Brain tumor dataset RM/result_csv/test_otsu_data.csv')"
      ],
      "metadata": {
        "id": "letz1vdbSqX1"
      },
      "execution_count": 320,
      "outputs": []
    },
    {
      "cell_type": "code",
      "source": [
        "X_test = new_df.drop('label', axis=1)\n",
        "y_test = new_df['label']\n",
        "\n",
        "X_test = scaler.transform(X_test)\n",
        "X_test = pca.transform(X_test)"
      ],
      "metadata": {
        "id": "_4MzehH1Srma"
      },
      "execution_count": 321,
      "outputs": []
    },
    {
      "cell_type": "code",
      "source": [
        "from sklearn.ensemble import RandomForestClassifier\n",
        "from sklearn.metrics import accuracy_score, classification_report\n",
        "import time\n",
        "\n",
        "\n",
        "# SVC model\n",
        "start_time = time.time()\n",
        "model = SVC(kernel='rbf', C=100, gamma=0.00001)\n",
        "model.fit(X_train, y_train)\n",
        "training_time = time.time() - start_time\n",
        "\n",
        "start_time = time.time()\n",
        "y_pred = model.predict(X_test)\n",
        "prediction_time = time.time() - start_time\n",
        "\n",
        "accuracy = accuracy_score(y_test, y_pred)\n",
        "print(\"SVC Accuracy:\", accuracy)\n",
        "print(\"SVC Training Time:\", training_time)\n",
        "print(\"SVC Prediction Time:\", prediction_time)\n",
        "print(classification_report(y_test, y_pred))"
      ],
      "metadata": {
        "colab": {
          "base_uri": "https://localhost:8080/"
        },
        "id": "F2p0E2OgSs4k",
        "outputId": "378c1f32-27bf-429d-bbff-5bce53a36492"
      },
      "execution_count": 150,
      "outputs": [
        {
          "output_type": "stream",
          "name": "stdout",
          "text": [
            "SVC Accuracy: 0.8160919540229885\n",
            "SVC Training Time: 0.15050768852233887\n",
            "SVC Prediction Time: 0.019373178482055664\n",
            "              precision    recall  f1-score   support\n",
            "\n",
            "           0       0.71      0.80      0.75        30\n",
            "           1       0.89      0.82      0.85        57\n",
            "\n",
            "    accuracy                           0.82        87\n",
            "   macro avg       0.80      0.81      0.80        87\n",
            "weighted avg       0.82      0.82      0.82        87\n",
            "\n"
          ]
        }
      ]
    },
    {
      "cell_type": "code",
      "source": [
        "# RandomForest model\n",
        "start_time = time.time()\n",
        "model = RandomForestClassifier(n_estimators=1000, random_state=42)\n",
        "model.fit(X_train, y_train)\n",
        "training_time = time.time() - start_time\n",
        "\n",
        "start_time = time.time()\n",
        "y_pred = model.predict(X_test)\n",
        "prediction_time = time.time() - start_time\n",
        "\n",
        "accuracy = accuracy_score(y_test, y_pred)\n",
        "print(\"RandomForest Accuracy:\", accuracy)\n",
        "print(\"RandomForest Training Time:\", training_time)\n",
        "print(\"RandomForest Prediction Time:\", prediction_time)\n",
        "print(classification_report(y_test, y_pred))"
      ],
      "metadata": {
        "colab": {
          "base_uri": "https://localhost:8080/"
        },
        "id": "bLQyZ3KKZRwg",
        "outputId": "cbdc0e47-49ed-46ba-b1c9-4aec46633eaa"
      },
      "execution_count": 222,
      "outputs": [
        {
          "output_type": "stream",
          "name": "stdout",
          "text": [
            "RandomForest Accuracy: 0.8390804597701149\n",
            "RandomForest Training Time: 21.558543920516968\n",
            "RandomForest Prediction Time: 0.09298872947692871\n",
            "              precision    recall  f1-score   support\n",
            "\n",
            "          no       0.83      0.67      0.74        30\n",
            "         yes       0.84      0.93      0.88        57\n",
            "\n",
            "    accuracy                           0.84        87\n",
            "   macro avg       0.84      0.80      0.81        87\n",
            "weighted avg       0.84      0.84      0.83        87\n",
            "\n"
          ]
        }
      ]
    },
    {
      "cell_type": "code",
      "source": [
        "# AdaBoost model\n",
        "start_time = time.time()\n",
        "model = AdaBoostClassifier(n_estimators=1000, random_state=42)\n",
        "model.fit(X_train, y_train)\n",
        "training_time = time.time() - start_time\n",
        "\n",
        "start_time = time.time()\n",
        "y_pred = model.predict(X_test)\n",
        "prediction_time = time.time() - start_time\n",
        "\n",
        "accuracy = accuracy_score(y_test, y_pred)\n",
        "print(\"AdaBoost Accuracy:\", accuracy)\n",
        "print(\"AdaBoost Training Time:\", training_time)\n",
        "print(\"AdaBoost Prediction Time:\", prediction_time)\n",
        "print(classification_report(y_test, y_pred))"
      ],
      "metadata": {
        "colab": {
          "base_uri": "https://localhost:8080/"
        },
        "id": "k54zkQuXZWfN",
        "outputId": "ba1f68db-1052-40b2-c48f-b569a4786d9e"
      },
      "execution_count": 311,
      "outputs": [
        {
          "output_type": "stream",
          "name": "stdout",
          "text": [
            "AdaBoost Accuracy: 0.7701149425287356\n",
            "AdaBoost Training Time: 60.33828592300415\n",
            "AdaBoost Prediction Time: 0.1538856029510498\n",
            "              precision    recall  f1-score   support\n",
            "\n",
            "          no       0.66      0.70      0.68        30\n",
            "         yes       0.84      0.81      0.82        57\n",
            "\n",
            "    accuracy                           0.77        87\n",
            "   macro avg       0.75      0.75      0.75        87\n",
            "weighted avg       0.77      0.77      0.77        87\n",
            "\n"
          ]
        }
      ]
    },
    {
      "cell_type": "markdown",
      "source": [
        "## NOT OTSU"
      ],
      "metadata": {
        "id": "0DssncEsSy0C"
      }
    },
    {
      "cell_type": "code",
      "source": [
        "df = pd.read_csv('./drive/MyDrive/Brain tumor dataset RM/result_csv/train_not_otsu_data.csv')"
      ],
      "metadata": {
        "id": "qktjsF8xS5ZE"
      },
      "execution_count": 323,
      "outputs": []
    },
    {
      "cell_type": "code",
      "source": [
        "\n",
        "X = df.drop('label', axis=1)\n",
        "y = df['label']\n",
        "\n",
        "scaler = StandardScaler()\n",
        "X = scaler.fit_transform(X)\n",
        "\n",
        "pca = PCA(n_components=0.9)\n",
        "X = pca.fit_transform(X)"
      ],
      "metadata": {
        "id": "KsXZTEY1Td4X"
      },
      "execution_count": 324,
      "outputs": []
    },
    {
      "cell_type": "code",
      "source": [
        "X_train = X\n",
        "y_train = y"
      ],
      "metadata": {
        "id": "-EFQ__MATfF1"
      },
      "execution_count": 325,
      "outputs": []
    },
    {
      "cell_type": "code",
      "source": [
        "new_df = pd.read_csv('./drive/MyDrive/Brain tumor dataset RM/result_csv/test_not_otsu_data.csv')"
      ],
      "metadata": {
        "id": "zOucIw2nTh3U"
      },
      "execution_count": 326,
      "outputs": []
    },
    {
      "cell_type": "code",
      "source": [
        "X_test = new_df.drop('label', axis=1)\n",
        "y_test = new_df['label']\n",
        "\n",
        "X_test = scaler.transform(X_test)\n",
        "X_test = pca.transform(X_test)"
      ],
      "metadata": {
        "id": "x0XOlXymTjaP"
      },
      "execution_count": 327,
      "outputs": []
    },
    {
      "cell_type": "code",
      "source": [
        "from sklearn.ensemble import RandomForestClassifier\n",
        "from sklearn.metrics import accuracy_score, classification_report\n",
        "\n",
        "# SVC model\n",
        "start_time = time.time()\n",
        "model = SVC(kernel='rbf', C=100, gamma=0.00001)\n",
        "model.fit(X_train, y_train)\n",
        "training_time = time.time() - start_time\n",
        "\n",
        "start_time = time.time()\n",
        "y_pred = model.predict(X_test)\n",
        "prediction_time = time.time() - start_time\n",
        "\n",
        "accuracy = accuracy_score(y_test, y_pred)\n",
        "print(\"SVC Accuracy:\", accuracy)\n",
        "print(\"SVC Training Time:\", training_time)\n",
        "print(\"SVC Prediction Time:\", prediction_time)\n",
        "print(classification_report(y_test, y_pred))"
      ],
      "metadata": {
        "colab": {
          "base_uri": "https://localhost:8080/"
        },
        "id": "vfCvwFbzTkac",
        "outputId": "cdb56e28-ae12-4fe0-da8b-b0627c975a8c"
      },
      "execution_count": 229,
      "outputs": [
        {
          "output_type": "stream",
          "name": "stdout",
          "text": [
            "SVC Accuracy: 0.7931034482758621\n",
            "SVC Training Time: 0.07725143432617188\n",
            "SVC Prediction Time: 0.009077787399291992\n",
            "              precision    recall  f1-score   support\n",
            "\n",
            "          no       0.64      0.93      0.76        30\n",
            "         yes       0.95      0.72      0.82        57\n",
            "\n",
            "    accuracy                           0.79        87\n",
            "   macro avg       0.79      0.83      0.79        87\n",
            "weighted avg       0.84      0.79      0.80        87\n",
            "\n"
          ]
        }
      ]
    },
    {
      "cell_type": "code",
      "source": [
        "# RandomForest model\n",
        "start_time = time.time()\n",
        "model = RandomForestClassifier(n_estimators=1000, random_state=42)\n",
        "model.fit(X_train, y_train)\n",
        "training_time = time.time() - start_time\n",
        "\n",
        "start_time = time.time()\n",
        "y_pred = model.predict(X_test)\n",
        "prediction_time = time.time() - start_time\n",
        "\n",
        "accuracy = accuracy_score(y_test, y_pred)\n",
        "print(\"RandomForest Accuracy:\", accuracy)\n",
        "print(\"RandomForest Training Time:\", training_time)\n",
        "print(\"RandomForest Prediction Time:\", prediction_time)\n",
        "print(classification_report(y_test, y_pred))"
      ],
      "metadata": {
        "colab": {
          "base_uri": "https://localhost:8080/"
        },
        "id": "uNGgI-H1UDSE",
        "outputId": "25059de2-4346-4c71-8418-35246f63b02f"
      },
      "execution_count": 230,
      "outputs": [
        {
          "output_type": "stream",
          "name": "stdout",
          "text": [
            "RandomForest Accuracy: 0.8045977011494253\n",
            "RandomForest Training Time: 17.580159187316895\n",
            "RandomForest Prediction Time: 0.05979037284851074\n",
            "              precision    recall  f1-score   support\n",
            "\n",
            "          no       0.71      0.73      0.72        30\n",
            "         yes       0.86      0.84      0.85        57\n",
            "\n",
            "    accuracy                           0.80        87\n",
            "   macro avg       0.78      0.79      0.79        87\n",
            "weighted avg       0.81      0.80      0.81        87\n",
            "\n"
          ]
        }
      ]
    },
    {
      "cell_type": "code",
      "source": [
        "# AdaBoost model\n",
        "start_time = time.time()\n",
        "model = AdaBoostClassifier(n_estimators=1000, random_state=42)\n",
        "model.fit(X_train, y_train)\n",
        "training_time = time.time() - start_time\n",
        "\n",
        "start_time = time.time()\n",
        "y_pred = model.predict(X_test)\n",
        "prediction_time = time.time() - start_time\n",
        "\n",
        "accuracy = accuracy_score(y_test, y_pred)\n",
        "print(\"AdaBoost Accuracy:\", accuracy)\n",
        "print(\"AdaBoost Training Time:\", training_time)\n",
        "print(\"AdaBoost Prediction Time:\", prediction_time)\n",
        "print(classification_report(y_test, y_pred))"
      ],
      "metadata": {
        "colab": {
          "base_uri": "https://localhost:8080/"
        },
        "id": "DVXuqd9sa7Vs",
        "outputId": "f81108d9-5c07-4370-ab8b-cc67360e2b12"
      },
      "execution_count": 304,
      "outputs": [
        {
          "output_type": "stream",
          "name": "stdout",
          "text": [
            "AdaBoost Accuracy: 0.8390804597701149\n",
            "AdaBoost Training Time: 7.010621786117554\n",
            "AdaBoost Prediction Time: 0.03259444236755371\n",
            "              precision    recall  f1-score   support\n",
            "\n",
            "          no       0.69      0.97      0.81        30\n",
            "         yes       0.98      0.77      0.86        57\n",
            "\n",
            "    accuracy                           0.84        87\n",
            "   macro avg       0.83      0.87      0.83        87\n",
            "weighted avg       0.88      0.84      0.84        87\n",
            "\n"
          ]
        }
      ]
    },
    {
      "cell_type": "code",
      "source": [],
      "metadata": {
        "id": "7Q9HNqXCpoAF"
      },
      "execution_count": null,
      "outputs": []
    }
  ]
}